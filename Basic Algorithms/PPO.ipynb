{
 "cells": [
  {
   "cell_type": "code",
   "execution_count": 7,
   "id": "84c2b0c1",
   "metadata": {},
   "outputs": [],
   "source": [
    "# PPO Algorithm: An improvement on TRPO Algorithm\n",
    "\n",
    "import torch\n",
    "import numpy as np\n",
    "import gymnasium as gym\n",
    "import matplotlib.pyplot as plt\n",
    "import torch.nn.functional as F\n",
    "import copy\n",
    "from tqdm import tqdm"
   ]
  },
  {
   "cell_type": "code",
   "execution_count": 8,
   "id": "35dc03ba",
   "metadata": {},
   "outputs": [],
   "source": [
    "# PolicyNet and ValueNet\n",
    "\n",
    "class PolicyNet(torch.nn.Module):\n",
    "    def __init__(self, state_dim, hidden_dim, action_dim):\n",
    "        super(PolicyNet, self).__init__()\n",
    "        self.fc1 = torch.nn.Linear(state_dim, hidden_dim)\n",
    "        self.fc2 = torch.nn.Linear(hidden_dim, action_dim)\n",
    "        \n",
    "    def forward(self, x):\n",
    "        x = F.relu(self.fc1(x))\n",
    "        return F.softmax(self.fc2(x), dim = 1)\n",
    "    \n",
    "class ValueNet(torch.nn.Module):\n",
    "    def __init__(self, state_dim, hidden_dim):\n",
    "        super(ValueNet, self).__init__()\n",
    "        self.fc1 = torch.nn.Linear(state_dim, hidden_dim)\n",
    "        self.fc2 = torch.nn.Linear(hidden_dim, 1)\n",
    "    \n",
    "    def forward(self, x):\n",
    "        x = F.relu(self.fc1(x))\n",
    "        return self.fc2(x)"
   ]
  },
  {
   "cell_type": "code",
   "execution_count": 9,
   "id": "d7e986bb",
   "metadata": {},
   "outputs": [],
   "source": [
    "# Advantage function based on baseline subtraction\n",
    "\n",
    "def compute_advantage(gamma, lmbda, td_delta):\n",
    "    td_delta = td_delta.detach().numpy()\n",
    "    advantage_list = []\n",
    "    advantage = 0.0\n",
    "    for delta in td_delta[::-1]:\n",
    "        advantage = gamma * lmbda * advantage + delta\n",
    "        advantage_list.append(advantage)\n",
    "        \n",
    "    advantage_list.reverse()\n",
    "    return torch.tensor(advantage_list, dtype=torch.float)"
   ]
  },
  {
   "cell_type": "code",
   "execution_count": 10,
   "id": "f219e141",
   "metadata": {},
   "outputs": [],
   "source": [
    "# PPO-Clip\n",
    "\n",
    "class PPO:\n",
    "    def __init__(self, state_dim, hidden_dim, action_dim, actor_lr, critic_lr, gamma, epsilon, lmbda, epochs\n",
    "                ,device):\n",
    "        self.state_dim = state_dim\n",
    "        self.hidden_dim = hidden_dim\n",
    "        self.action_dim = action_dim\n",
    "        \n",
    "        self.actor = PolicyNet(state_dim, hidden_dim, action_dim)\n",
    "        self.actor_optimizer = torch.optim.Adam(self.actor.parameters(), lr = actor_lr)\n",
    "        self.critic = ValueNet(state_dim, hidden_dim)\n",
    "        self.critic_optimizer = torch.optim.Adam(self.critic.parameters(), lr = critic_lr)\n",
    "        \n",
    "        self.gamma = gamma\n",
    "        self.epsilon = epsilon # Epsilon for clipping\n",
    "        self.lmbda = lmbda\n",
    "        self.epochs = epochs\n",
    "        self.device = device\n",
    "        \n",
    "    def take_action(self, state):\n",
    "        state = torch.tensor([state], dtype = torch.float).to(device)\n",
    "        probs = self.actor(state)\n",
    "        action_dist = torch.distributions.Categorical(probs)\n",
    "        action = action_dist.sample() # Sample action based on policy distribution\n",
    "        \n",
    "        return action.item()\n",
    "    \n",
    "    \n",
    "    def update(self, transition_dict):\n",
    "        state = torch.tensor(transition_dict['state'], dtype = torch.float).to(device)\n",
    "        action = torch.tensor(transition_dict['action']).view(-1, 1).to(device)\n",
    "        reward = torch.tensor(transition_dict['reward'], dtype = torch.float).view(-1, 1).to(device)\n",
    "        next_state = torch.tensor(transition_dict['next_state'], dtype = torch.float).to(device)\n",
    "        done = torch.tensor(transition_dict['done'], dtype = torch.float).view(-1, 1).to(device)\n",
    "        \n",
    "        td_target = reward + self.gamma * self.critic(next_state) * (1 - done)\n",
    "        \n",
    "        td_delta = td_target - self.critic(state)\n",
    "        \n",
    "        advantage = compute_advantage(self.gamma, self.lmbda, td_delta).to(self.device)\n",
    "        \n",
    "        old_log_probs = torch.log(self.actor(state).gather(1, action)).detach()\n",
    "        \n",
    "        for _ in range(epochs):\n",
    "            log_probs = torch.log(self.actor(state).gather(1, action))\n",
    "            \n",
    "            ratio = torch.exp(log_probs - old_log_probs)\n",
    "            surr1 = ratio * advantage\n",
    "            surr2 = torch.clamp(ratio, 1 - self.epsilon, 1 + self.epsilon) * advantage\n",
    "            \n",
    "            actor_loss = torch.mean(-torch.min(surr1, surr2))\n",
    "            critic_loss = torch.mean(F.mse_loss(self.critic(state), td_target.detach()))\n",
    "            \n",
    "            # Update Actor\n",
    "            \n",
    "            \n",
    "            self.actor_optimizer.zero_grad()\n",
    "\n",
    "            actor_loss.backward()\n",
    "            \n",
    "            self.actor_optimizer.step()\n",
    "            \n",
    "            # Update Critic\n",
    "            \n",
    "            self.critic_optimizer.zero_grad()\n",
    "\n",
    "            critic_loss.backward()\n",
    "            \n",
    "            self.critic_optimizer.step()"
   ]
  },
  {
   "cell_type": "code",
   "execution_count": 11,
   "id": "2c455a34",
   "metadata": {},
   "outputs": [],
   "source": [
    "# On-policy Training\n",
    "\n",
    "def train_on_policy_agent(env, agent, num_episodes):\n",
    "    return_list = []\n",
    "    for i in range(10):\n",
    "        with tqdm(total=int(num_episodes/10), desc='Iteration %d' % i) as pbar:\n",
    "            for i_episode in range(int(num_episodes/10)):\n",
    "                episode_return = 0\n",
    "                transition_dict = {'state': [], 'action': [], 'next_state': [], 'reward': [], 'done': []}\n",
    "                state, _ = env.reset()\n",
    "                done = False\n",
    "                while not done:\n",
    "                    action = agent.take_action(state)\n",
    "                    next_state, reward, done, _ = env.step(action)[:4]\n",
    "                    transition_dict['state'].append(state)\n",
    "                    transition_dict['action'].append(action)\n",
    "                    transition_dict['next_state'].append(next_state)\n",
    "                    transition_dict['reward'].append(reward)\n",
    "                    transition_dict['done'].append(done)\n",
    "                    state = next_state\n",
    "                    episode_return += reward\n",
    "                return_list.append(episode_return)\n",
    "                agent.update(transition_dict)\n",
    "                if (i_episode+1) % 10 == 0:\n",
    "                    pbar.set_postfix({'episode': '%d' % (num_episodes/10 * i + i_episode+1), 'return': '%.3f' % np.mean(return_list[-10:])})\n",
    "                pbar.update(1)\n",
    "    return return_list"
   ]
  },
  {
   "cell_type": "code",
   "execution_count": 12,
   "id": "4f38a0bc",
   "metadata": {},
   "outputs": [
    {
     "name": "stderr",
     "output_type": "stream",
     "text": [
      "Iteration 0: 100%|██████████| 30/30 [00:00<00:00, 106.56it/s, episode=30, return=50.200]\n",
      "Iteration 1: 100%|██████████| 30/30 [00:00<00:00, 54.97it/s, episode=60, return=137.300]\n",
      "Iteration 2: 100%|██████████| 30/30 [00:00<00:00, 39.05it/s, episode=90, return=189.300]\n",
      "Iteration 3: 100%|██████████| 30/30 [00:01<00:00, 19.77it/s, episode=120, return=388.500]\n",
      "Iteration 4: 100%|██████████| 30/30 [00:02<00:00, 11.50it/s, episode=150, return=671.600]\n",
      "Iteration 5: 100%|██████████| 30/30 [00:02<00:00, 13.77it/s, episode=180, return=453.500]\n",
      "Iteration 6: 100%|██████████| 30/30 [00:03<00:00,  9.05it/s, episode=210, return=1072.500]\n",
      "Iteration 7: 100%|██████████| 30/30 [00:23<00:00,  1.30it/s, episode=240, return=11146.300]\n",
      "Iteration 8: 100%|██████████| 30/30 [00:25<00:00,  1.20it/s, episode=270, return=3083.200] \n",
      "Iteration 9: 100%|██████████| 30/30 [03:08<00:00,  6.27s/it, episode=300, return=89598.100]\n"
     ]
    }
   ],
   "source": [
    "actor_lr = 1e-3\n",
    "critic_lr = 1e-2\n",
    "num_episodes = 300\n",
    "hidden_dim = 128\n",
    "gamma = 0.98\n",
    "lmbda = 0.95\n",
    "epochs = 5\n",
    "eps = 0.2\n",
    "device = torch.device(\"cuda\") if torch.cuda.is_available() else torch.device(\n",
    "    \"cpu\")\n",
    "\n",
    "env_name = 'CartPole-v1'\n",
    "env = gym.make(env_name)\n",
    "torch.manual_seed(0)\n",
    "state_dim = env.observation_space.shape[0]\n",
    "action_dim = env.action_space.n\n",
    "\n",
    "agent = PPO(state_dim, hidden_dim, action_dim, actor_lr, critic_lr, gamma, eps, lmbda,\n",
    "            epochs, device)\n",
    "\n",
    "return_list = train_on_policy_agent(env, agent, num_episodes)"
   ]
  },
  {
   "cell_type": "code",
   "execution_count": 13,
   "id": "1c265dc3",
   "metadata": {},
   "outputs": [
    {
     "data": {
      "image/png": "[encoded data removed]",
      "text/plain": [
       "<Figure size 432x288 with 1 Axes>"
      ]
     },
     "metadata": {
      "needs_background": "light"
     },
     "output_type": "display_data"
    },
    {
     "data": {
      "image/png": "[encoded data removed]",
      "text/plain": [
       "<Figure size 432x288 with 1 Axes>"
      ]
     },
     "metadata": {
      "needs_background": "light"
     },
     "output_type": "display_data"
    }
   ],
   "source": [
    "def moving_average(a, window_size):\n",
    "    cumulative_sum = np.cumsum(np.insert(a, 0, 0)) \n",
    "    middle = (cumulative_sum[window_size:] - cumulative_sum[:-window_size]) / window_size\n",
    "    r = np.arange(1, window_size-1, 2)\n",
    "    begin = np.cumsum(a[:window_size-1])[::2] / r\n",
    "    end = (np.cumsum(a[:-window_size:-1])[::2] / r)[::-1]\n",
    "    return np.concatenate((begin, middle, end))\n",
    "\n",
    "\n",
    "episodes_list = list(range(len(return_list)))\n",
    "plt.plot(episodes_list, return_list)\n",
    "plt.xlabel('Episodes')\n",
    "plt.ylabel('Returns')\n",
    "plt.title('PPO on {}'.format(env_name))\n",
    "plt.show()\n",
    "\n",
    "mv_return = moving_average(return_list, 9)\n",
    "plt.plot(episodes_list, mv_return)\n",
    "plt.xlabel('Episodes')\n",
    "plt.ylabel('Returns')\n",
    "plt.title('PPO on {}'.format(env_name))\n",
    "plt.show()"
   ]
  },
  {
   "cell_type": "code",
   "execution_count": null,
   "id": "2f8374d8",
   "metadata": {},
   "outputs": [],
   "source": []
  }
 ],
 "metadata": {
  "kernelspec": {
   "display_name": "Python 3",
   "language": "python",
   "name": "python3"
  },
  "language_info": {
   "codemirror_mode": {
    "name": "ipython",
    "version": 3
   },
   "file_extension": ".py",
   "mimetype": "text/x-python",
   "name": "python",
   "nbconvert_exporter": "python",
   "pygments_lexer": "ipython3",
   "version": "3.8.8"
  }
 },
 "nbformat": 4,
 "nbformat_minor": 5
}
