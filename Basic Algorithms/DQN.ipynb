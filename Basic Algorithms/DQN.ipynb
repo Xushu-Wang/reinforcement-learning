{
 "cells": [
  {
   "cell_type": "code",
   "execution_count": 6,
   "id": "52c18557",
   "metadata": {},
   "outputs": [],
   "source": [
    "# DQN Algorithm\n",
    "\n",
    "import random\n",
    "import gym \n",
    "import numpy as np\n",
    "import collections\n",
    "from tqdm import tqdm\n",
    "import torch\n",
    "import torch.nn.functional as F\n",
    "import matplotlib.pyplot as plt"
   ]
  },
  {
   "cell_type": "code",
   "execution_count": 7,
   "id": "a99aa898",
   "metadata": {},
   "outputs": [],
   "source": [
    "# Replay Buffer for sample efficiency\n",
    "\n",
    "\n",
    "class ReplayBuffer:\n",
    "    def __init__(self, capacity):\n",
    "        self.buffer = collections.deque(maxlen=capacity)\n",
    "        \n",
    "    def add(self, state, action, reward, next_state, done):\n",
    "        self.buffer.append((state, action, reward, next_state, done))\n",
    "    \n",
    "    def sample(self, batch_size):\n",
    "        transitions = random.sample(self.buffer, batch_size)\n",
    "        state, action, reward, next_state, done = zip(*transitions)\n",
    "        \n",
    "        return np.array(state), action, reward, np.array(next_state), done\n",
    "    \n",
    "    def size(self):\n",
    "        return len(self.buffer)\n",
    "\n",
    "# Neural network for Q-value, input: state, output: Q-value\n",
    "    \n",
    "class Qnet(torch.nn.Module):\n",
    "    def __init__(self, state_dim, hidden_dim, action_dim):\n",
    "        super(Qnet, self).__init__()\n",
    "        self.fc1 = torch.nn.Linear(state_dim, hidden_dim)\n",
    "        self.fc2 = torch.nn.Linear(hidden_dim, action_dim)\n",
    "\n",
    "    def forward(self, x):\n",
    "        x = F.relu(self.fc1(x))\n",
    "        return self.fc2(x)"
   ]
  },
  {
   "cell_type": "code",
   "execution_count": 8,
   "id": "fd72ab9a",
   "metadata": {},
   "outputs": [],
   "source": [
    "# DQN Algorithm = Experience Replay + Fixed Q target Stochastic Gradient Descent \n",
    "\n",
    "class DQN:\n",
    "    def __init__(self, state_dim, hidden_dim, action_dim, learning_rate, gamma, epsilon, target_update, device):\n",
    "            self.action_dim = action_dim\n",
    "            self.state_dim = state_dim\n",
    "            self.hidden_dim = hidden_dim\n",
    "            \n",
    "            self.q_net = Qnet(state_dim, hidden_dim, self.action_dim).to(device) # Neural Network for Q-value\n",
    "            self.target_q_net = Qnet(state_dim, hidden_dim, self.action_dim).to(device)\n",
    "            self.optimizer = torch.optim.Adam(self.q_net.parameters(), lr = learning_rate) #Adam Optimizer\n",
    "            \n",
    "            self.gamma = gamma\n",
    "            self.epsilon = epsilon\n",
    "            self.target_update = target_update #update frequency\n",
    "            self.count = 0\n",
    "            self.device = device\n",
    "            \n",
    "    def take_action(self, state): # Epsilon-greedy policy improvement\n",
    "        if np.random.random() < self.epsilon:\n",
    "            action = np.random.randint(self.action_dim)\n",
    "        else:\n",
    "            state = torch.tensor([state], dtype = torch.float).to(self.device)\n",
    "            action = self.q_net(state).argmax().item()\n",
    "        \n",
    "        return action\n",
    "    \n",
    "    def update(self, transition_dict):\n",
    "        states = torch.tensor(transition_dict['states'], dtype = torch.float).to(self.device)\n",
    "        actions = torch.tensor(transition_dict['actions']).view(-1, 1).to(self.device)\n",
    "        rewards = torch.tensor(transition_dict['rewards'], dtype = torch.float).view(-1, 1).to(self.device)\n",
    "        next_states = torch.tensor(transition_dict['next_states'], dtype = torch.float).to(self.device)\n",
    "        dones = torch.tensor(transition_dict['dones'], dtype = torch.float).view(-1, 1).to(self.device)\n",
    "        \n",
    "        q_values = self.q_net(states).gather(1, actions) \n",
    "        \n",
    "        max_next_q_values = self.target_q_net(next_states).max(1)[0].view(-1, 1)\n",
    "        \n",
    "        q_targets = rewards + self.gamma * max_next_q_values * (1 - dones)\n",
    "        \n",
    "        dqn_loss = torch.mean(F.mse_loss(q_values, q_targets)) # MSE Loss between target and value\n",
    "        \n",
    "        self.optimizer.zero_grad() # Back-Propogation\n",
    "        dqn_loss.backward()\n",
    "        self.optimizer.step()\n",
    "        \n",
    "        if self.count % self.target_update == 0: # When it meets the number of updating, load current value into target\n",
    "            self.target_q_net.load_state_dict(self.q_net.state_dict())\n",
    "            \n",
    "        self.count += 1"
   ]
  },
  {
   "cell_type": "code",
   "execution_count": 9,
   "id": "fa1ee635",
   "metadata": {},
   "outputs": [],
   "source": [
    "lr = 2e-3\n",
    "num_episodes = 500\n",
    "hidden_dim = 128\n",
    "gamma = 0.98\n",
    "\n",
    "epsilon = 0.01\n",
    "target_update = 10\n",
    "buffer_size = 10000\n",
    "minimal_size = 500\n",
    "batch_size = 64\n",
    "\n",
    "device = torch.device('cpu')\n",
    "\n",
    "env_name = 'CartPole-v0'\n",
    "env = gym.make(env_name)\n",
    "\n",
    "random.seed(0)\n",
    "np.random.seed(0)\n",
    "\n",
    "torch.manual_seed(0)\n",
    "\n",
    "replay_buffer = ReplayBuffer(buffer_size)\n",
    "\n",
    "state_dim = env.observation_space.shape[0]\n",
    "action_dim = env.action_space.n\n",
    "\n",
    "agent = DQN(state_dim, hidden_dim, action_dim, lr, gamma, epsilon, target_update, device)"
   ]
  },
  {
   "cell_type": "code",
   "execution_count": 10,
   "id": "187638dc",
   "metadata": {},
   "outputs": [
    {
     "name": "stderr",
     "output_type": "stream",
     "text": [
      "Iteration 0: 100%|██████████| 50/50 [00:00<00:00, 1211.92it/s, episode=50, return=9.000]\n",
      "Iteration 1: 100%|██████████| 50/50 [00:00<00:00, 150.25it/s, episode=100, return=10.200]\n",
      "Iteration 2: 100%|██████████| 50/50 [00:01<00:00, 41.73it/s, episode=150, return=74.200] \n",
      "Iteration 3: 100%|██████████| 50/50 [00:05<00:00,  9.17it/s, episode=200, return=178.900]\n",
      "Iteration 4: 100%|██████████| 50/50 [00:05<00:00,  9.64it/s, episode=250, return=158.900]\n",
      "Iteration 5: 100%|██████████| 50/50 [00:07<00:00,  6.93it/s, episode=300, return=227.700]\n",
      "Iteration 6: 100%|██████████| 50/50 [00:10<00:00,  4.64it/s, episode=350, return=343.000]\n",
      "Iteration 7: 100%|██████████| 50/50 [00:13<00:00,  3.65it/s, episode=400, return=509.000]\n",
      "Iteration 8: 100%|██████████| 50/50 [00:12<00:00,  3.87it/s, episode=450, return=351.100]\n",
      "Iteration 9: 100%|██████████| 50/50 [00:16<00:00,  3.08it/s, episode=500, return=443.400]\n"
     ]
    }
   ],
   "source": [
    "return_list = []\n",
    "for i in range(10):\n",
    "    with tqdm(total=int(num_episodes / 10), desc='Iteration %d' % i) as pbar:\n",
    "        for i_episode in range(int(num_episodes / 10)):\n",
    "            episode_return = 0\n",
    "            state, _ = env.reset()\n",
    "                        \n",
    "            done = False\n",
    "            \n",
    "            while not done:\n",
    "                action = agent.take_action(state)\n",
    "                                                \n",
    "                next_state, reward, done, _ = env.step(action)[:4]\n",
    "                replay_buffer.add(state, action, reward, next_state, done)\n",
    "                state = next_state\n",
    "                \n",
    "                episode_return += reward\n",
    "\n",
    "                if replay_buffer.size() > minimal_size:\n",
    "                    b_s, b_a, b_r, b_ns, b_d = replay_buffer.sample(batch_size) #sample transitions from replay buffer\n",
    "                    transition_dict = {\n",
    "                        'states': b_s,\n",
    "                        'actions': b_a,\n",
    "                        'next_states': b_ns,\n",
    "                        'rewards': b_r,\n",
    "                        'dones': b_d\n",
    "                    }\n",
    "                    \n",
    "                    agent.update(transition_dict)\n",
    "            \n",
    "                    \n",
    "            return_list.append(episode_return)\n",
    "            \n",
    "            \n",
    "            if (i_episode + 1) % 10 == 0:\n",
    "                pbar.set_postfix({\n",
    "                    'episode':\n",
    "                    '%d' % (num_episodes / 10 * i + i_episode + 1),\n",
    "                    'return':\n",
    "                    '%.3f' % np.mean(return_list[-10:])\n",
    "                })\n",
    "                \n",
    "            pbar.update(1)"
   ]
  },
  {
   "cell_type": "code",
   "execution_count": 12,
   "id": "488e9968",
   "metadata": {},
   "outputs": [
    {
     "data": {
      "image/png": "[encoded data removed]",
      "text/plain": [
       "<Figure size 432x288 with 1 Axes>"
      ]
     },
     "metadata": {
      "needs_background": "light"
     },
     "output_type": "display_data"
    },
    {
     "data": {
      "image/png": "[encoded data removed]",
      "text/plain": [
       "<Figure size 432x288 with 1 Axes>"
      ]
     },
     "metadata": {
      "needs_background": "light"
     },
     "output_type": "display_data"
    }
   ],
   "source": [
    "def moving_average(a, window_size):\n",
    "    cumulative_sum = np.cumsum(np.insert(a, 0, 0)) \n",
    "    middle = (cumulative_sum[window_size:] - cumulative_sum[:-window_size]) / window_size\n",
    "    r = np.arange(1, window_size-1, 2)\n",
    "    begin = np.cumsum(a[:window_size-1])[::2] / r\n",
    "    end = (np.cumsum(a[:-window_size:-1])[::2] / r)[::-1]\n",
    "    return np.concatenate((begin, middle, end))\n",
    "\n",
    "episodes_list = list(range(len(return_list)))\n",
    "plt.plot(episodes_list, return_list)\n",
    "plt.xlabel('Episodes')\n",
    "plt.ylabel('Returns')\n",
    "plt.title('DQN on {}'.format(env_name))\n",
    "plt.show()\n",
    "\n",
    "mv_return = moving_average(return_list, 9)\n",
    "plt.plot(episodes_list, mv_return)\n",
    "plt.xlabel('Episodes')\n",
    "plt.ylabel('Returns')\n",
    "plt.title('DQN on {}'.format(env_name))\n",
    "plt.show()"
   ]
  },
  {
   "cell_type": "code",
   "execution_count": null,
   "id": "1c1ca578",
   "metadata": {},
   "outputs": [],
   "source": []
  }
 ],
 "metadata": {
  "kernelspec": {
   "display_name": "Python 3",
   "language": "python",
   "name": "python3"
  },
  "language_info": {
   "codemirror_mode": {
    "name": "ipython",
    "version": 3
   },
   "file_extension": ".py",
   "mimetype": "text/x-python",
   "name": "python",
   "nbconvert_exporter": "python",
   "pygments_lexer": "ipython3",
   "version": "3.8.8"
  }
 },
 "nbformat": 4,
 "nbformat_minor": 5
}
