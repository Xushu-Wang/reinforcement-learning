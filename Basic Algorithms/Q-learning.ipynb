{
 "cells": [
  {
   "cell_type": "code",
   "execution_count": 18,
   "id": "174bb93b",
   "metadata": {},
   "outputs": [],
   "source": [
    "# Q-learning Algorithm\n",
    "\n",
    "import matplotlib.pyplot as plt\n",
    "import numpy as np\n",
    "from tqdm import tqdm"
   ]
  },
  {
   "cell_type": "code",
   "execution_count": 19,
   "id": "2c849543",
   "metadata": {},
   "outputs": [],
   "source": [
    "# Cliff Walking Environment\n",
    "\n",
    "class CliffWalkingEnv:\n",
    "    def __init__(self, nrow, ncol):\n",
    "        self.nrow = nrow\n",
    "        self.ncol = ncol\n",
    "        self.x = 0 # Agent x cor\n",
    "        self.y = self.nrow - 1 # Agent y cor\n",
    "        \n",
    "    # Agent's action\n",
    "    def step(self, action):\n",
    "        change = [[0, -1], [0, 1], [-1, 0], [1, 0]] # action: down, up, left, right\n",
    "        self.x = min(self.ncol - 1, max(0, self.x + change[action][0])) # determine whether x is out of bound\n",
    "        self.y = min(self.nrow - 1, max(0, self.y + change[action][1])) # determine whether y is out of bound\n",
    "        \n",
    "        reward = -1\n",
    "        next_state = self.y * self.ncol + self.x\n",
    "        \n",
    "        done = False\n",
    "        \n",
    "        if self.y == self.nrow - 1 and self.x > 0:\n",
    "            done = True\n",
    "            \n",
    "            if self.x != self.ncol - 1: ## Fall into the lake\n",
    "                reward = -100\n",
    "                \n",
    "        return next_state, reward, done\n",
    "    \n",
    "    def reset(self):\n",
    "        \n",
    "        self.x = 0\n",
    "        self.y = nrow - 1\n",
    "        \n",
    "        return self.y * self.ncol + self.x"
   ]
  },
  {
   "cell_type": "code",
   "execution_count": 20,
   "id": "e54ee9c3",
   "metadata": {},
   "outputs": [],
   "source": [
    "# Q-learning Algorithm = TD(0) for maximum Q value (Q*) + epsilon-greedy policy improvement\n",
    "# In other words, Q-learning estimate Q* instead of Q\n",
    "\n",
    "class Q_learning:\n",
    "    def __init__(self, ncol, nrow, epsilon, alpha, gamma, n_action = 4):\n",
    "        self.Q_table = np.zeros([ncol * nrow, n_action])\n",
    "        self.alpha = alpha\n",
    "        self.gamma = gamma\n",
    "        self.ncol = ncol\n",
    "        self.nrow = nrow\n",
    "        self.epsilon = epsilon\n",
    "        self.n_action = n_action\n",
    "    \n",
    "    def take_action(self, state):\n",
    "        if np.random.random() < epsilon:\n",
    "            action = np.random.randint(self.n_action)\n",
    "        else:\n",
    "            action = np.argmax(self.Q_table[state])\n",
    "        return action\n",
    "    \n",
    "    def best_action(self, state):\n",
    "        Q_max = np.max(self.Q_table[state])\n",
    "        a = [0 for _ in range(self.n_action)]\n",
    "        for i in range(self.n_action):\n",
    "            if self.Q_table[state, i] == Q_max:\n",
    "                a[i] = 1\n",
    "        return a   \n",
    "    \n",
    "    def update(self, s0, a0, r, s1):\n",
    "        self.Q_table[s0, a0] += self.alpha * (r + self.gamma * self.Q_table[s1].max() - self.Q_table[s0, a0]) # self.Q_table[s1].max()"
   ]
  },
  {
   "cell_type": "code",
   "execution_count": 21,
   "id": "c988c085",
   "metadata": {},
   "outputs": [],
   "source": [
    "def print_agent(agent, env, action_meaning, disaster=[], end=[]):\n",
    "    for i in range(env.nrow):\n",
    "        for j in range(env.ncol):\n",
    "            if (i * env.ncol + j) in disaster:\n",
    "                print('****', end=' ')\n",
    "            elif (i * env.ncol + j) in end:\n",
    "                print('EEEE', end=' ')\n",
    "            else:\n",
    "                a = agent.best_action(i * env.ncol + j)\n",
    "                \n",
    "                pi_str = ''\n",
    "                for k in range(len(action_meaning)):\n",
    "                    pi_str += action_meaning[k] if a[k] > 0 else 'o'\n",
    "                print(pi_str, end=' ')\n",
    "        print()"
   ]
  },
  {
   "cell_type": "code",
   "execution_count": 22,
   "id": "b13305cf",
   "metadata": {},
   "outputs": [
    {
     "name": "stderr",
     "output_type": "stream",
     "text": [
      "Iteration 0: 100%|██████████| 50/50 [00:00<00:00, 1074.99it/s, episode=50, return=-105.700]\n",
      "Iteration 1: 100%|██████████| 50/50 [00:00<00:00, 1970.36it/s, episode=100, return=-70.900]\n",
      "Iteration 2: 100%|██████████| 50/50 [00:00<00:00, 2281.67it/s, episode=150, return=-56.500]\n",
      "Iteration 3: 100%|██████████| 50/50 [00:00<00:00, 3131.67it/s, episode=200, return=-46.500]\n",
      "Iteration 4: 100%|██████████| 50/50 [00:00<00:00, 3646.14it/s, episode=250, return=-40.800]\n",
      "Iteration 5: 100%|██████████| 50/50 [00:00<00:00, 4130.20it/s, episode=300, return=-20.400]\n",
      "Iteration 6: 100%|██████████| 50/50 [00:00<00:00, 4413.85it/s, episode=350, return=-45.700]\n",
      "Iteration 7: 100%|██████████| 50/50 [00:00<00:00, 4990.49it/s, episode=400, return=-32.800]\n",
      "Iteration 8: 100%|██████████| 50/50 [00:00<00:00, 5690.28it/s, episode=450, return=-22.700]\n",
      "Iteration 9: 100%|██████████| 50/50 [00:00<00:00, 5183.53it/s, episode=500, return=-61.700]\n"
     ]
    },
    {
     "data": {
      "image/png": "[encoded data removed]",
      "text/plain": [
       "<Figure size 432x288 with 1 Axes>"
      ]
     },
     "metadata": {
      "needs_background": "light"
     },
     "output_type": "display_data"
    },
    {
     "name": "stdout",
     "output_type": "stream",
     "text": [
      "Q-learning算法最终收敛得到的策略为：\n",
      "^ooo ovoo ovoo ^ooo ^ooo ovoo ooo> ^ooo ^ooo ooo> ooo> ovoo \n",
      "ooo> ooo> ooo> ooo> ooo> ooo> ^ooo ooo> ooo> ooo> ooo> ovoo \n",
      "ooo> ooo> ooo> ooo> ooo> ooo> ooo> ooo> ooo> ooo> ooo> ovoo \n",
      "^ooo **** **** **** **** **** **** **** **** **** **** EEEE \n"
     ]
    }
   ],
   "source": [
    "np.random.seed(0)\n",
    "epsilon = 0.1\n",
    "alpha = 0.1\n",
    "gamma = 0.9\n",
    "ncol = 12\n",
    "nrow = 4\n",
    "num_episodes = 500\n",
    "\n",
    "env = CliffWalkingEnv(nrow, ncol)\n",
    "\n",
    "\n",
    "agent = Q_learning(ncol, nrow, epsilon, alpha, gamma)\n",
    "\n",
    "return_list = [] \n",
    "for i in range(10):\n",
    "    with tqdm(total=int(num_episodes / 10), desc='Iteration %d' % i) as pbar:\n",
    "        for i_episode in range(int(num_episodes / 10)):  \n",
    "            episode_return = 0\n",
    "            state = env.reset()\n",
    "            done = False\n",
    "            \n",
    "            while not done:\n",
    "                action = agent.take_action(state)\n",
    "                next_state, reward, done = env.step(action)\n",
    "                episode_return += reward \n",
    "                agent.update(state, action, reward, next_state)\n",
    "                state = next_state\n",
    "            return_list.append(episode_return)\n",
    "            if (i_episode + 1) % 10 == 0: \n",
    "                pbar.set_postfix({\n",
    "                    'episode':\n",
    "                    '%d' % (num_episodes / 10 * i + i_episode + 1),\n",
    "                    'return':\n",
    "                    '%.3f' % np.mean(return_list[-10:])\n",
    "                })\n",
    "            pbar.update(1)\n",
    "\n",
    "episodes_list = list(range(len(return_list)))\n",
    "plt.plot(episodes_list, return_list)\n",
    "plt.xlabel('Episodes')\n",
    "plt.ylabel('Returns')\n",
    "plt.title('Q-learning on {}'.format('Cliff Walking'))\n",
    "plt.show()\n",
    "\n",
    "action_meaning = ['^', 'v', '<', '>']\n",
    "\n",
    "print('Q-learning算法最终收敛得到的策略为：')\n",
    "print_agent(agent, env, action_meaning, list(range(37, 47)), [47])"
   ]
  },
  {
   "cell_type": "code",
   "execution_count": null,
   "id": "8077ef02",
   "metadata": {},
   "outputs": [],
   "source": []
  }
 ],
 "metadata": {
  "kernelspec": {
   "display_name": "Python 3",
   "language": "python",
   "name": "python3"
  },
  "language_info": {
   "codemirror_mode": {
    "name": "ipython",
    "version": 3
   },
   "file_extension": ".py",
   "mimetype": "text/x-python",
   "name": "python",
   "nbconvert_exporter": "python",
   "pygments_lexer": "ipython3",
   "version": "3.8.8"
  }
 },
 "nbformat": 4,
 "nbformat_minor": 5
}
