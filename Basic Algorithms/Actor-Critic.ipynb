{
 "cells": [
  {
   "cell_type": "code",
   "execution_count": 49,
   "id": "9830aefc",
   "metadata": {},
   "outputs": [],
   "source": [
    "# Actor-Crtic Algorithm\n",
    "\n",
    "import gym\n",
    "import torch\n",
    "import torch.nn.functional as F\n",
    "import numpy as np\n",
    "import matplotlib.pyplot as plt\n",
    "from tqdm import tqdm"
   ]
  },
  {
   "cell_type": "code",
   "execution_count": 50,
   "id": "b960fac7",
   "metadata": {},
   "outputs": [],
   "source": [
    "# Actor Neural Network, input: state, output: action distribution\n",
    "\n",
    "class PolicyNet(torch.nn.Module):\n",
    "    def __init__(self, state_dim, hidden_dim, action_dim):\n",
    "        super(PolicyNet, self).__init__()\n",
    "        self.fc1 = torch.nn.Linear(state_dim, hidden_dim)\n",
    "        self.fc2 = torch.nn.Linear(hidden_dim, action_dim)\n",
    "\n",
    "    def forward(self, x):\n",
    "        x = F.relu(self.fc1(x))\n",
    "        return F.softmax(self.fc2(x), dim=1)"
   ]
  },
  {
   "cell_type": "code",
   "execution_count": 51,
   "id": "10f72c7d",
   "metadata": {},
   "outputs": [],
   "source": [
    "# Critic Neural Network, input: state, output: Q-value\n",
    "\n",
    "class ValueNet(torch.nn.Module):\n",
    "    def __init__(self, state_dim, hidden_dim):\n",
    "        super(ValueNet, self).__init__()\n",
    "        self.fc1 = torch.nn.Linear(state_dim, hidden_dim)\n",
    "        self.fc2 = torch.nn.Linear(hidden_dim, 1)\n",
    "    \n",
    "    def forward(self, x):\n",
    "        x = F.relu(self.fc1(x))\n",
    "        return self.fc2(x)"
   ]
  },
  {
   "cell_type": "code",
   "execution_count": 52,
   "id": "311b60bf",
   "metadata": {},
   "outputs": [],
   "source": [
    "# Actor-Critic Algorithm: PolicyNet + ValueNet, use ValueNet to estimate Q-value, PolicyNet for policy-improvement\n",
    "\n",
    "# Actor-Critic = REINFORCE + Extra Neural Network for Q-value estimation\n",
    "\n",
    "class Actor_Critic:\n",
    "    def __init__(self, state_dim, hidden_dim, action_dim, actor_lr, critic_lr, gamma, device):\n",
    "        self.PolicyNet = PolicyNet(state_dim, hidden_dim, action_dim)\n",
    "        self.ValueNet = ValueNet(state_dim, hidden_dim)\n",
    "        self.gamma = gamma\n",
    "        self.device = device\n",
    "        self.policy_optimizer = torch.optim.Adam(self.PolicyNet.parameters(), lr = actor_lr)\n",
    "        self.value_optimizer = torch.optim.Adam(self.ValueNet.parameters(), lr = critic_lr)\n",
    "        \n",
    "    def take_action(self, state):\n",
    "        \n",
    "        state = torch.tensor([state], dtype = torch.float).to(self.device)\n",
    "        probs = self.PolicyNet(state)\n",
    "        action_dist = torch.distributions.Categorical(probs) \n",
    "        action = action_dist.sample() #Sample from stochastic policy\n",
    "                \n",
    "        return action.item()\n",
    "    \n",
    "    def update(self, transition_dict):\n",
    "        states = torch.tensor(transition_dict['states'], dtype=torch.float).to(self.device)\n",
    "        actions = torch.tensor(transition_dict['actions']).view(-1, 1).to(self.device)\n",
    "        rewards = torch.tensor(transition_dict['rewards'], dtype=torch.float).view(-1, 1).to(self.device)\n",
    "        next_states = torch.tensor(transition_dict['next_states'],dtype=torch.float).to(self.device)\n",
    "        dones = torch.tensor(transition_dict['dones'], dtype=torch.float).view(-1, 1).to(self.device)\n",
    "        \n",
    "        # Update Critic\n",
    "        \n",
    "        self.value_optimizer.zero_grad()\n",
    "        \n",
    "        td_target = rewards + self.gamma * self.ValueNet(next_states) * (1 - dones)\n",
    "        \n",
    "        td_delta = td_target - self.ValueNet(states)\n",
    "        \n",
    "        critic_loss = torch.mean(F.mse_loss(td_target.detach(), self.ValueNet(states)))\n",
    "        \n",
    "        critic_loss.backward()\n",
    "        \n",
    "        self.value_optimizer.step()\n",
    "                                 \n",
    "        # Update Actor\n",
    "                                                           \n",
    "        self.policy_optimizer.zero_grad()\n",
    "    \n",
    "        log_probs = torch.log(self.PolicyNet(states).gather(1, actions))\n",
    "                                 \n",
    "        actor_loss = torch.mean(-log_probs * td_delta.detach())\n",
    "                                 \n",
    "        actor_loss.backward()\n",
    "        \n",
    "        self.policy_optimizer.step()"
   ]
  },
  {
   "cell_type": "code",
   "execution_count": 53,
   "id": "73e59f8b",
   "metadata": {},
   "outputs": [],
   "source": [
    "def train_on_policy_agent(env, agent, num_episodes):\n",
    "    return_list = []\n",
    "    for i in range(10):\n",
    "        with tqdm(total=int(num_episodes/10), desc='Iteration %d' % i) as pbar:\n",
    "            for i_episode in range(int(num_episodes/10)):\n",
    "                episode_return = 0\n",
    "                transition_dict = {'states': [], 'actions': [], 'next_states': [], 'rewards': [], 'dones': []}\n",
    "                state, _= env.reset()\n",
    "                done = False\n",
    "                while not done:\n",
    "                    action = agent.take_action(state)\n",
    "                    next_state, reward, done, _ = env.step(action)[:4]\n",
    "                    transition_dict['states'].append(state)\n",
    "                    transition_dict['actions'].append(action)\n",
    "                    transition_dict['next_states'].append(next_state)\n",
    "                    transition_dict['rewards'].append(reward)\n",
    "                    transition_dict['dones'].append(done)\n",
    "                    state = next_state\n",
    "                    episode_return += reward\n",
    "                return_list.append(episode_return)\n",
    "                agent.update(transition_dict)\n",
    "                if (i_episode+1) % 10 == 0:\n",
    "                    pbar.set_postfix({'episode': '%d' % (num_episodes/10 * i + i_episode+1), 'return': '%.3f' % np.mean(return_list[-10:])})\n",
    "                pbar.update(1)\n",
    "    return return_list"
   ]
  },
  {
   "cell_type": "code",
   "execution_count": 54,
   "id": "7acdcada",
   "metadata": {},
   "outputs": [
    {
     "name": "stderr",
     "output_type": "stream",
     "text": [
      "Iteration 0: 100%|██████████| 100/100 [00:00<00:00, 342.45it/s, episode=100, return=13.700]\n",
      "Iteration 1: 100%|██████████| 100/100 [00:00<00:00, 180.92it/s, episode=200, return=68.600]\n",
      "Iteration 2: 100%|██████████| 100/100 [00:00<00:00, 107.03it/s, episode=300, return=117.300]\n",
      "Iteration 3: 100%|██████████| 100/100 [00:01<00:00, 57.89it/s, episode=400, return=199.700]\n",
      "Iteration 4: 100%|██████████| 100/100 [00:02<00:00, 42.75it/s, episode=500, return=274.500]\n",
      "Iteration 5: 100%|██████████| 100/100 [00:03<00:00, 25.57it/s, episode=600, return=349.000]\n",
      "Iteration 6: 100%|██████████| 100/100 [00:03<00:00, 29.43it/s, episode=700, return=354.800]\n",
      "Iteration 7: 100%|██████████| 100/100 [00:05<00:00, 19.04it/s, episode=800, return=596.200]\n",
      "Iteration 8: 100%|██████████| 100/100 [00:06<00:00, 14.56it/s, episode=900, return=712.900]\n",
      "Iteration 9: 100%|██████████| 100/100 [00:09<00:00, 10.10it/s, episode=1000, return=785.300]\n"
     ]
    }
   ],
   "source": [
    "actor_lr = 1e-3\n",
    "critic_lr = 1e-2\n",
    "num_episodes = 1000\n",
    "hidden_dim = 128\n",
    "gamma = 0.98\n",
    "device = torch.device(\"cuda\") if torch.cuda.is_available() else torch.device(\n",
    "    \"cpu\")\n",
    "\n",
    "env_name = 'CartPole-v1'\n",
    "env = gym.make(env_name)\n",
    "torch.manual_seed(0)\n",
    "state_dim = env.observation_space.shape[0]\n",
    "action_dim = env.action_space.n\n",
    "agent = Actor_Critic(state_dim, hidden_dim, action_dim, actor_lr, critic_lr,\n",
    "                    gamma, device)\n",
    "\n",
    "return_list = train_on_policy_agent(env, agent, num_episodes)"
   ]
  },
  {
   "cell_type": "code",
   "execution_count": 55,
   "id": "ee9a862d",
   "metadata": {},
   "outputs": [
    {
     "data": {
      "image/png": "[encoded data removed]",
      "text/plain": [
       "<Figure size 432x288 with 1 Axes>"
      ]
     },
     "metadata": {
      "needs_background": "light"
     },
     "output_type": "display_data"
    },
    {
     "data": {
      "image/png": "[encoded data removed]",
      "text/plain": [
       "<Figure size 432x288 with 1 Axes>"
      ]
     },
     "metadata": {
      "needs_background": "light"
     },
     "output_type": "display_data"
    }
   ],
   "source": [
    "def moving_average(a, window_size):\n",
    "    cumulative_sum = np.cumsum(np.insert(a, 0, 0)) \n",
    "    middle = (cumulative_sum[window_size:] - cumulative_sum[:-window_size]) / window_size\n",
    "    r = np.arange(1, window_size-1, 2)\n",
    "    begin = np.cumsum(a[:window_size-1])[::2] / r\n",
    "    end = (np.cumsum(a[:-window_size:-1])[::2] / r)[::-1]\n",
    "    return np.concatenate((begin, middle, end))\n",
    "\n",
    "\n",
    "episodes_list = list(range(len(return_list)))\n",
    "plt.plot(episodes_list, return_list)\n",
    "plt.xlabel('Episodes')\n",
    "plt.ylabel('Returns')\n",
    "plt.title('Actor-Critic on {}'.format(env_name))\n",
    "plt.show()\n",
    "\n",
    "mv_return = moving_average(return_list, 9)\n",
    "plt.plot(episodes_list, mv_return)\n",
    "plt.xlabel('Episodes')\n",
    "plt.ylabel('Returns')\n",
    "plt.title('Actor-Critic on {}'.format(env_name))\n",
    "plt.show()"
   ]
  },
  {
   "cell_type": "code",
   "execution_count": null,
   "id": "78571025",
   "metadata": {},
   "outputs": [],
   "source": []
  }
 ],
 "metadata": {
  "kernelspec": {
   "display_name": "Python 3",
   "language": "python",
   "name": "python3"
  },
  "language_info": {
   "codemirror_mode": {
    "name": "ipython",
    "version": 3
   },
   "file_extension": ".py",
   "mimetype": "text/x-python",
   "name": "python",
   "nbconvert_exporter": "python",
   "pygments_lexer": "ipython3",
   "version": "3.8.8"
  }
 },
 "nbformat": 4,
 "nbformat_minor": 5
}
